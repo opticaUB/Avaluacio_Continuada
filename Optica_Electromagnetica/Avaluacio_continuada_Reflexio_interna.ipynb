{
 "cells": [
  {
   "cell_type": "markdown",
   "metadata": {},
   "source": [
    "# Estudi de l’estat de polarització de la llum i els seus canvis quan es reflecteix en una superfície que separa dos medis dielèctrics i isòtrops\n",
    "\n",
    "**1)** En aquest exercici estudiareu l’estat de polarització de la llum i els seus canvis quan la llum es reflecteix en una superfície que separa dos medis dielèctrics i isòtrops (també seran lineals,  homogenis i elèctricament neutres) d’índexs n i n’, amb n$>$n’. "
   ]
  },
  {
   "cell_type": "code",
   "execution_count": 3,
   "metadata": {},
   "outputs": [],
   "source": [
    "# Importació de llibreries\n",
    "\n",
    "import numpy as np\n",
    "from IPython.display import clear_output\n",
    "import matplotlib.pyplot as plt\n",
    "from IPython.display import display, Math, Latex"
   ]
  },
  {
   "cell_type": "code",
   "execution_count": 9,
   "metadata": {},
   "outputs": [
    {
     "data": {
      "text/latex": [
       "$\\displaystyle \\theta_{brewster} = 0.588$"
      ],
      "text/plain": [
       "<IPython.core.display.Math object>"
      ]
     },
     "metadata": {},
     "output_type": "display_data"
    },
    {
     "data": {
      "text/latex": [
       "$\\displaystyle \\theta_{lim} = 0.730$"
      ],
      "text/plain": [
       "<IPython.core.display.Math object>"
      ]
     },
     "metadata": {},
     "output_type": "display_data"
    }
   ],
   "source": [
    "# Definició de variables \n",
    "\n",
    "nt=1.0;\n",
    "ni=1.5;\n",
    "num_punts=200;\n",
    "thetai=np.linspace(0.01, np.pi/2, num=num_punts,dtype=complex);\n",
    "thetat=(np.arcsin(ni*np.sin(thetai)/nt));\n",
    "\n",
    "theta_brewster=np.arctan(nt/ni)\n",
    "theta_brewster_formatted = f\"{theta_brewster:.3f}\"\n",
    "\n",
    "theta_lim=np.arcsin(nt/ni)\n",
    "theta_lim_formatted = f\"{theta_lim:.3f}\"\n",
    "\n",
    "display(Math(f\"\\\\theta_{{brewster}} = {theta_brewster_formatted}\"))\n",
    "display(Math(f\"\\\\theta_{{lim}} = {theta_lim_formatted}\"))"
   ]
  },
  {
   "cell_type": "markdown",
   "metadata": {},
   "source": [
    "**i)** Prepareu un codi per a pintar l’el·lipse de polarització d’una ona amb dues components perpendiculars $E_x$ i $E_y$ d’amplituds diferents i desfasades entre si. Per a fer l’animació en Python, podeu utilitzar les següents línies de codi: \\\\\n",
    "\n",
    "``` \n",
    "for j in range(N):\n",
    "clear_output(wait=True)\n",
    "plt.figure(num=1,figsize=(5, 5))\n",
    "plt.plot(Ex[0:j],Ey[0:j], 'ro')\n",
    "plt.xlim(-1.1,1.1)\n",
    "plt.ylim(-1.1,1.1)\n",
    "plt.show()\n",
    "```\n",
    "\n",
    "on N correspon al nombre de punts que volem simular i Ex i Ey són les components del camp elèctric en cada instant de temps.\n",
    "\n",
    "Recordeu importar les llibreries:\n",
    "\n",
    "```\n",
    "import numpy as np\n",
    "import matplotlib.pyplot as plt\n",
    "from IPython.display import clear_output\n",
    "```"
   ]
  },
  {
   "cell_type": "code",
   "execution_count": 11,
   "metadata": {},
   "outputs": [
    {
     "data": {
      "image/png": "[encoded data removed]",
      "text/plain": [
       "<Figure size 360x360 with 1 Axes>"
      ]
     },
     "metadata": {
      "needs_background": "light"
     },
     "output_type": "display_data"
    }
   ],
   "source": [
    "A=1;\n",
    "\n",
    "Ax=A;\n",
    "Ay=A;\n",
    "\n",
    "phase_rel_a=20;\n",
    "print(phase_rel_a*np.pi/180)\n",
    "\n",
    "w=1;\n",
    "num_punts=30;\n",
    "t=np.linspace(0, 2*np.pi/w, num=num_punts);\n",
    "\n",
    "Ex=Ax*np.cos(w*t);\n",
    "Ey=Ay*np.cos(w*t+phase_rel_a*np.pi/180);\n",
    "clear_output(wait=True)\n",
    "\n",
    "for j in range(num_punts):\n",
    "    clear_output(wait=True)\n",
    "    plt.figure(num=1,figsize=(5, 5))\n",
    "    plt.title('Polarització ona reflectida')\n",
    "    plt.plot(Ex[0:j],Ey[0:j], 'ro')\n",
    "    plt.xlim(-1.1,1.1)\n",
    "    plt.ylim(-1.1,1.1)\n",
    "    #time.sleep(0.01)\n",
    "    plt.show()\n",
    "    "
   ]
  },
  {
   "cell_type": "markdown",
   "metadata": {},
   "source": [
    "**ii)** Trieu dos medis d’índexs n i n' (n$>$n’). Representeu els coeficients de reflexió de Fresnel paral·lel i perpendicular en funció de l’angle d’incidència, entre 0 i 90$^o$, que inclou angles per sota i per sobre de l’angle límit. Podeu utilitzar les mateixes expressions per a tots els angles, ja que numpy els calcularà igual encara que hi aparegui un angle complex (sempre i quan especifiqueu que el dtype del vostre array sigui 'complex'). Com que en alguns casos us donaran coeficients complexes, representeu el seu mòdul i la seva fase amb np.abs i np.angle, respectivament.\\\\\n",
    "\n",
    "Per definir l'array de l'angle d'incidència podeu fer servir la següent linia de codi:\n",
    "\n",
    "```\n",
    "thetai=np.linspace(0.01, np.pi/2, num=num_punts,dtype=complex);\n",
    "```"
   ]
  },
  {
   "cell_type": "code",
   "execution_count": 12,
   "metadata": {},
   "outputs": [],
   "source": [
    "#Fresnel Coefficients\n",
    "\n",
    "rs=np.sin(thetat-thetai)/np.sin(thetai+thetat);\n",
    "rp=np.tan(thetat-thetai)/np.tan(thetai+thetat);\n",
    "\n",
    "abs_rs=np.zeros((len(thetai),1),dtype=complex)\n",
    "abs_rp=np.zeros((len(thetai),1),dtype=complex)\n",
    "\n",
    "# modulus rp and rs\n",
    "rp_mod=np.abs(rp);\n",
    "rs_mod=np.abs(rs);\n",
    "\n",
    "# phases rp and rs\n",
    "phase_p=np.zeros((len(thetai),1),dtype=int)\n",
    "phase_s=np.zeros((len(thetai),1),dtype=int)\n",
    "for i in range(len(thetai)):\n",
    "    phase_p[i,0]=np.angle(rp[i])*180/np.pi;\n",
    "    phase_s[i,0]=np.angle(rs[i])*180/np.pi;\n",
    "\n",
    "phase_rel=phase_s-phase_p;"
   ]
  },
  {
   "cell_type": "code",
   "execution_count": 15,
   "metadata": {},
   "outputs": [
    {
     "data": {
      "text/plain": [
       "[<matplotlib.lines.Line2D at 0x7fdfc9ef78e0>]"
      ]
     },
     "execution_count": 15,
     "metadata": {},
     "output_type": "execute_result"
    },
    {
     "data": {
      "image/png": "[encoded data removed]",
      "text/plain": [
       "<Figure size 432x288 with 1 Axes>"
      ]
     },
     "metadata": {
      "needs_background": "light"
     },
     "output_type": "display_data"
    },
    {
     "data": {
      "image/png": "[encoded data removed]",
      "text/plain": [
       "<Figure size 432x288 with 1 Axes>"
      ]
     },
     "metadata": {
      "needs_background": "light"
     },
     "output_type": "display_data"
    }
   ],
   "source": [
    "# Plot modulus and phases\n",
    "\n",
    "plt.figure(1)\n",
    "plt.plot(thetai.real*180/np.pi,rp_mod,'b')\n",
    "plt.plot(thetai.real*180/np.pi,rs_mod,'k')\n",
    "\n",
    "plt.figure(2)\n",
    "plt.plot(thetai.real*180/np.pi,phase_p,'b')\n",
    "plt.plot(thetai.real*180/np.pi,phase_s,'k')\n",
    "plt.plot(thetai.real*180/np.pi,phase_rel,'r')"
   ]
  },
  {
   "cell_type": "markdown",
   "metadata": {},
   "source": [
    "**iii)** Per una ona incident polaritzada linealment a 45o del pla d’incidència, representeu l’estat de polarització de l’ona reflectida en els següents casos: \n",
    "\n",
    "- Per un angle d’incidència menor a l'angle de Brewster i a l’angle límit.\n",
    "- item Per un angle d’incidència major a l'angle de Brewster i menor a l’angle límit.\n",
    "- item Per un angle d’incidència major a l’angle límit.\n",
    "\n",
    "Justifiqueu per què l’estat de polarització canvia, i expliqueu per què el comportament és diferent per sota o per sobre de l’angle límit.\n",
    "Tingueu en compte que, amb el criteri de signes que utilitza el J. Casas, quan mirem el feix reflectit l’eix de la component paral·lela del camp elèctric està girat (i.e. canviat de signe). Tingueu-ho en compte quan pinteu l’el·lipse de polarització."
   ]
  },
  {
   "cell_type": "code",
   "execution_count": 16,
   "metadata": {},
   "outputs": [
    {
     "data": {
      "image/png": "[encoded data removed]",
      "text/plain": [
       "<Figure size 1296x1296 with 3 Axes>"
      ]
     },
     "metadata": {
      "needs_background": "light"
     },
     "output_type": "display_data"
    }
   ],
   "source": [
    "A=1;\n",
    "theta_inc=[20,40,50] #graus\n",
    "\n",
    "plt.figure(figsize=(18, 18))\n",
    "plt.subplots_adjust(hspace=0.2)\n",
    "plt.subplots_adjust(wspace=0)\n",
    "#plt.rcParams['text.usetex'] = True\n",
    "\n",
    "\n",
    "for n in range(3):\n",
    "    # add a new subplot iteratively\n",
    "    ax = plt.subplot(1, 3, n + 1)\n",
    "    \n",
    "    idx=np.where(np.real(thetai) > theta_inc[n]*np.pi/180) \n",
    "    print(thetai[idx[0][0]])\n",
    "\n",
    "    Ax=A*rp_mod[idx][0];\n",
    "    Ay=A*rs_mod[idx][0];\n",
    "\n",
    "    phase_rel_a=phase_rel[idx][0];\n",
    "    print(phase_rel_a*np.pi/180)\n",
    "\n",
    "    w=1;\n",
    "    num_punts=30;\n",
    "    t=np.linspace(0, 2*np.pi/w, num=num_punts);\n",
    "\n",
    "    Ex=Ax*np.cos(w*t);\n",
    "    Ey=Ay*np.cos(w*t+phase_rel_a*np.pi/180);\n",
    "    clear_output(wait=True)\n",
    "    \n",
    "    ax.plot(-1*Ex[0:j],Ey[0:j], 'ro')\n",
    "    ax.set_xlim(-1.1,1.1)\n",
    "    ax.set_ylim(-1.1,1.1)\n",
    "    ax.set_title(r'Polarització ona reflectida $\\theta$=%i$^o$' %theta_inc[n])\n",
    "    #ax.set_title(r'$\\beta \\rho \\lambda \\xi$')\n",
    "    \n",
    "    plt.subplots_adjust(left=0.1,\n",
    "                    bottom=0.4, \n",
    "                    right=0.9, \n",
    "                    top=0.6, \n",
    "                    wspace=0.4, \n",
    "                    hspace=0.4)\n"
   ]
  }
 ],
 "metadata": {
  "kernelspec": {
   "display_name": "Python 3 (ipykernel)",
   "language": "python",
   "name": "python3"
  },
  "language_info": {
   "codemirror_mode": {
    "name": "ipython",
    "version": 3
   },
   "file_extension": ".py",
   "mimetype": "text/x-python",
   "name": "python",
   "nbconvert_exporter": "python",
   "pygments_lexer": "ipython3",
   "version": "3.9.12"
  }
 },
 "nbformat": 4,
 "nbformat_minor": 4
}
